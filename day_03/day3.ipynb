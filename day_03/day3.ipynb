{
 "cells": [
  {
   "cell_type": "code",
   "execution_count": 167,
   "metadata": {},
   "outputs": [
    {
     "name": "stdout",
     "output_type": "stream",
     "text": [
      "['467', '35', '63', '3', '617', '592', '755', '664', '598']\n",
      "3794\n"
     ]
    }
   ],
   "source": [
    "def is_valid_char(char):\n",
    "    return char == '.' or char in '0123456789'\n",
    "\n",
    "def is_valid_index(x, y, width, height):\n",
    "    return 0 <= x < width and 0 <= y < height\n",
    "\n",
    "def scan_around(charIndex, rowIndex, rows):\n",
    "    height = len(rows)\n",
    "    width = len(rows[0])\n",
    "\n",
    "    indexes_to_check = [\n",
    "        (charIndex - 1, rowIndex),\n",
    "        (charIndex + 1, rowIndex),\n",
    "        (charIndex, rowIndex - 1),\n",
    "        (charIndex, rowIndex + 1),\n",
    "        (charIndex - 1, rowIndex - 1),\n",
    "        (charIndex + 1, rowIndex + 1),\n",
    "        (charIndex - 1, rowIndex + 1),\n",
    "        (charIndex + 1, rowIndex - 1),\n",
    "    ]\n",
    "\n",
    "    return any(\n",
    "        is_valid_index(x, y, width, height) and not is_valid_char(rows[y][x])\n",
    "        for x, y in indexes_to_check\n",
    "    )\n",
    "\n",
    "def extract_parts(content):\n",
    "    part_numbers = []\n",
    "    rows = content.split('\\n')\n",
    "    for rowIndex, row in enumerate(rows):\n",
    "        potential_part = []\n",
    "        part_exists = False\n",
    "        for index, char in enumerate(row):\n",
    "            if char.isdigit():\n",
    "                is_part = scan_around(index, rowIndex, rows)\n",
    "                part_exists = is_part or part_exists\n",
    "                potential_part.append(char)\n",
    "                if index == len(row) - 1 and part_exists: # Last char in row\n",
    "                    part_numbers.append(''.join(potential_part))\n",
    "                \n",
    "            else:\n",
    "                if len(potential_part) >= 1 and part_exists:\n",
    "                    part_numbers.append(''.join(potential_part))\n",
    "                part_exists = False\n",
    "                potential_part = []\n",
    "\n",
    "    return part_numbers\n",
    "\n",
    "with open('./input.txt', 'r') as file:\n",
    "    content = file.read()\n",
    "\n",
    "part_numbers = extract_parts(content)\n",
    "\n",
    "# Sum of all parts\n",
    "print(part_numbers)\n",
    "print(sum(map(int, part_numbers)))\n",
    "\n",
    "\n"
   ]
  }
 ],
 "metadata": {
  "kernelspec": {
   "display_name": ".venv",
   "language": "python",
   "name": "python3"
  },
  "language_info": {
   "codemirror_mode": {
    "name": "ipython",
    "version": 3
   },
   "file_extension": ".py",
   "mimetype": "text/x-python",
   "name": "python",
   "nbconvert_exporter": "python",
   "pygments_lexer": "ipython3",
   "version": "3.9.1"
  }
 },
 "nbformat": 4,
 "nbformat_minor": 2
}
