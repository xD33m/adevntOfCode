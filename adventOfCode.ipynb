{
 "cells": [
  {
   "cell_type": "code",
   "execution_count": 5,
   "metadata": {},
   "outputs": [
    {
     "name": "stdout",
     "output_type": "stream",
     "text": [
      "...#......\n",
      ".......#..\n",
      "#.........\n",
      "..........\n",
      "......#...\n",
      ".#........\n",
      ".........#\n",
      "..........\n",
      ".......#..\n",
      "#...#.....\n"
     ]
    }
   ],
   "source": [
    "with open('day_11/galaxy.txt', 'r') as file:\n",
    "    content = file.read()\n",
    "    print(content)\n"
   ]
  },
  {
   "cell_type": "code",
   "execution_count": 6,
   "metadata": {},
   "outputs": [
    {
     "data": {
      "text/plain": [
       "(2, 3)"
      ]
     },
     "execution_count": 6,
     "metadata": {},
     "output_type": "execute_result"
    }
   ],
   "source": [
    "empty_rows = 0\n",
    "empty_columns = 0\n",
    "# Count empty rows\n",
    "galaxy_rows = content.split('\\n')\n",
    "for row in galaxy_rows:\n",
    "    if '#' not in row:\n",
    "        \n",
    "\n",
    "# Count empty columns\n",
    "rows = content.split('\\n')\n",
    "num_columns = len(rows[0])\n",
    "for col in range(num_columns):\n",
    "    if '#' not in [row[col] for row in rows]:\n",
    "        empty_columns += 1\n",
    "\n",
    "empty_rows, empty_columns"
   ]
  }
 ],
 "metadata": {
  "kernelspec": {
   "display_name": ".venv",
   "language": "python",
   "name": "python3"
  },
  "language_info": {
   "codemirror_mode": {
    "name": "ipython",
    "version": 3
   },
   "file_extension": ".py",
   "mimetype": "text/x-python",
   "name": "python",
   "nbconvert_exporter": "python",
   "pygments_lexer": "ipython3",
   "version": "3.9.5"
  }
 },
 "nbformat": 4,
 "nbformat_minor": 2
}
