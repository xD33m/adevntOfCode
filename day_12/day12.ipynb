{
 "cells": [
  {
   "cell_type": "code",
   "execution_count": 21,
   "metadata": {},
   "outputs": [
    {
     "name": "stdout",
     "output_type": "stream",
     "text": [
      "???.### 1,1,3\n",
      ".??..??...?##. 1,1,3\n",
      "?#?#?#?#?#?#?#? 1,3,1,6\n",
      "????.#...#... 4,1,1\n",
      "????.######..#####. 1,6,5\n",
      "?###???????? 3,2,1\n"
     ]
    }
   ],
   "source": [
    "with open('./springs.txt', 'r') as file:\n",
    "    content = file.read()\n",
    "    print(content)"
   ]
  },
  {
   "cell_type": "code",
   "execution_count": 22,
   "metadata": {},
   "outputs": [
    {
     "data": {
      "text/plain": [
       "408"
      ]
     },
     "execution_count": 22,
     "metadata": {},
     "output_type": "execute_result"
    },
    {
     "ename": "",
     "evalue": "",
     "output_type": "error",
     "traceback": [
      "\u001b[1;31mThe Kernel crashed while executing code in the the current cell or a previous cell. Please review the code in the cell(s) to identify a possible cause of the failure. Click <a href='https://aka.ms/vscodeJupyterKernelCrash'>here</a> for more info. View Jupyter <a href='command:jupyter.viewOutput'>log</a> for further details."
     ]
    }
   ],
   "source": [
    "# get arragement of springs for each row\n",
    "# example row ???.### 1,1,3\\n\n",
    "\n",
    "constraints = []\n",
    "for row in content.split('\\n'):\n",
    "    row = row.split(' ')\n",
    "    row = row[1].split(',')\n",
    "    row = [int(i) for i in row]\n",
    "    constraints.append(row)\n",
    "\n",
    "constraints\n",
    "\n",
    "# iterate through each row and check if the arrangement is possible\n",
    "# on arragement must be separated by at least one dot (.) or question mark (?)\n",
    "# if the arrangement is possible, check the next arrangement in the array of arrangements\n",
    "# repeat until the last arrangement is reached\n",
    "# return to the first arrangement and check if another arrangement is possible\n",
    "# if no arrangement is possible, return the number of possible arrangements\n",
    "# if an arrangement is possible, check the next arrangement in the array of arrangements and repeat\n",
    "# repeat this for each row\n",
    "\n",
    "# example row .??..??...?##. 1,1,3\n",
    "# possible arrangements are:\n",
    "# .#...#....?##. 1,1,3\n",
    "# .#....#...?##. 1,1,3\n",
    "# ..#..#....?##. 1,1,3\n",
    "# ..#...#...?##. 1,1,3\n",
    "\n",
    "# function that finds possible place for a arrangement\n",
    "def count_possible_arrangements(string, constraints):\n",
    "    def backtrack(current_arrangement, index):\n",
    "        if index == len(string):\n",
    "            return 1\n",
    "        \n",
    "        total = 0\n",
    "        for constraint in constraints:\n",
    "            if index + constraint <= len(string):\n",
    "                if all(current_arrangement[i] in ('.', '?') for i in range(index, index + constraint)):\n",
    "                    new_arrangement = (\n",
    "                        current_arrangement[:index] + '#' +\n",
    "                        current_arrangement[index:index + constraint] +\n",
    "                        current_arrangement[index + constraint:]\n",
    "                    )\n",
    "                    total += backtrack(new_arrangement, index + constraint + 1)\n",
    "        \n",
    "        return total\n",
    "    \n",
    "    return backtrack(string, 0)\n",
    "\n",
    "    \n",
    "\n",
    "count_possible_arrangements('.??..??...?##.', [1,1,3])"
   ]
  }
 ],
 "metadata": {
  "kernelspec": {
   "display_name": ".venv",
   "language": "python",
   "name": "python3"
  },
  "language_info": {
   "codemirror_mode": {
    "name": "ipython",
    "version": 3
   },
   "file_extension": ".py",
   "mimetype": "text/x-python",
   "name": "python",
   "nbconvert_exporter": "python",
   "pygments_lexer": "ipython3",
   "version": "3.9.1"
  }
 },
 "nbformat": 4,
 "nbformat_minor": 2
}
