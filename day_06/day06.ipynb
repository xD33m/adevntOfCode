{
 "cells": [
  {
   "cell_type": "code",
   "execution_count": 83,
   "metadata": {},
   "outputs": [],
   "source": [
    "with open('./input.txt', 'r') as file:\n",
    "    content = file.read()"
   ]
  },
  {
   "cell_type": "code",
   "execution_count": 84,
   "metadata": {},
   "outputs": [
    {
     "name": "stdout",
     "output_type": "stream",
     "text": [
      "[(48938466, 261119210191063)]\n",
      "36749103\n"
     ]
    },
    {
     "ename": "",
     "evalue": "",
     "output_type": "error",
     "traceback": [
      "\u001b[1;31mThe Kernel crashed while executing code in the the current cell or a previous cell. Please review the code in the cell(s) to identify a possible cause of the failure. Click <a href='https://aka.ms/vscodeJupyterKernelCrash'>here</a> for more info. View Jupyter <a href='command:jupyter.viewOutput'>log</a> for further details."
     ]
    }
   ],
   "source": [
    "# (time, dist)\n",
    "data = []\n",
    "for line in content.split('\\n'):\n",
    "    data.append([int(x) for x in line.split(' ') if x.isdigit()])\n",
    "\n",
    "races = []\n",
    "for row in data[:1]:\n",
    "    for index, num in enumerate(row):\n",
    "        races.append((num, data[1][index]))\n",
    "\n",
    "print(races)\n",
    "\n",
    "# time: 7\n",
    "# dist: 9\n",
    "\n",
    "# h: 0 -> 0\n",
    "# h: 1 -> 7-1 = 6\n",
    "# h: 2 -> 7-2 mili to move & 2 m/m = 5*2 = 10\n",
    "# h: 3 -> 7-3 = 4 to move & 3 m/m = 4*3 = 12\n",
    "# h: 4 -> 7-4 = 3 to move & 4 m/m = 3*4 = 12\n",
    "# h: 5 -> 7-5 = 2 to move & 5 m/m = 2*5 = 10\n",
    "# h: 6 -> 7-6 = 1 to move & 6 m/m = 1*6 = 6\n",
    "\n",
    "def race_variations(time_to_beat, distance_to_beat):\n",
    "    variations = []\n",
    "    for h in range(0, time_to_beat + 1):\n",
    "        dist_reached = (time_to_beat - h) * h\n",
    "        if(dist_reached > distance_to_beat):\n",
    "            variations.append((dist_reached))\n",
    "    return len(variations)\n",
    "\n",
    "vars = [race_variations(x[0], x[1]) for x in races]\n",
    "prod = 1\n",
    "for i in vars:\n",
    "    prod *= i\n",
    "ö\n",
    "print(prod)\n",
    "        \n",
    "\n"
   ]
  }
 ],
 "metadata": {
  "kernelspec": {
   "display_name": ".venv",
   "language": "python",
   "name": "python3"
  },
  "language_info": {
   "codemirror_mode": {
    "name": "ipython",
    "version": 3
   },
   "file_extension": ".py",
   "mimetype": "text/x-python",
   "name": "python",
   "nbconvert_exporter": "python",
   "pygments_lexer": "ipython3",
   "version": "3.9.1"
  }
 },
 "nbformat": 4,
 "nbformat_minor": 2
}
