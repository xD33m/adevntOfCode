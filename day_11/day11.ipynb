{
 "cells": [
  {
   "cell_type": "code",
   "execution_count": 457,
   "metadata": {},
   "outputs": [],
   "source": [
    "with open('./galaxy.txt', 'r') as file:\n",
    "    content = file.read()\n",
    "    # print(content)"
   ]
  },
  {
   "cell_type": "code",
   "execution_count": 458,
   "metadata": {},
   "outputs": [
    {
     "name": "stdout",
     "output_type": "stream",
     "text": [
      "[['.', '.', '.', '#', '.', '.', '.', '.', '.', '.'], ['.', '.', '.', '.', '.', '.', '.', '#', '.', '.'], ['#', '.', '.', '.', '.', '.', '.', '.', '.', '.'], ['.', '.', '.', '.', '.', '.', '.', '.', '.', '.'], ['.', '.', '.', '.', '.', '.', '#', '.', '.', '.'], ['.', '#', '.', '.', '.', '.', '.', '.', '.', '.'], ['.', '.', '.', '.', '.', '.', '.', '.', '.', '#'], ['.', '.', '.', '.', '.', '.', '.', '.', '.', '.'], ['.', '.', '.', '.', '.', '.', '.', '#', '.', '.'], ['#', '.', '.', '.', '#', '.', '.', '.', '.', '.']]\n"
     ]
    }
   ],
   "source": [
    "# creat two dimensional array\n",
    "galaxy = []\n",
    "for line in content.split('\\n'):\n",
    "    galaxy.append(list(line))\n",
    "\n",
    "print(galaxy)\n",
    "def print_galaxy(galaxy):\n",
    "    for line in galaxy:\n",
    "        print(''.join(line))"
   ]
  },
  {
   "cell_type": "code",
   "execution_count": 459,
   "metadata": {},
   "outputs": [
    {
     "name": "stdout",
     "output_type": "stream",
     "text": [
      "[3, 7]\n"
     ]
    }
   ],
   "source": [
    "expanded_galaxy = galaxy.copy()\n",
    "nb_of_empty_rows = 0\n",
    "expansion = 1_000_000\n",
    "\n",
    "row_indexes = []\n",
    "for index, row in enumerate(galaxy):\n",
    "    if '#' not in row:\n",
    "        row_indexes.append(index)\n",
    "print(row_indexes)\n",
    "\n",
    "for i in range(expansion):\n",
    "    for row_count, row_index in enumerate(row_indexes):\n",
    "        expanded_galaxy.insert(row_index + row_count + i, (['.'] * len(row))) # insert dot at the right index\n",
    "    row_indexes[row_count] += 1\n",
    "\n",
    "col_indexes = []\n",
    "for index, col in enumerate(zip(*galaxy)): # crazy stuff https://stackoverflow.com/a/16548922/11195396\n",
    "    if '#' not in col:\n",
    "        col_indexes.append(index)\n",
    "\n",
    "# each time we insert a dot, the indexes of the columns to insert a dot in increase by 1\n",
    "for i in range(expansion):\n",
    "    for col_count, col_index in enumerate(col_indexes):\n",
    "        for row in expanded_galaxy:\n",
    "            row.insert(col_index + col_count + i, '.') # insert dot at the right index\n",
    "        col_indexes[col_count] += 1 # increase the index of the column to insert a dot in\n",
    "        \n",
    "print(col_indexes)\n",
    "print_galaxy(expanded_galaxy)"
   ]
  },
  {
   "cell_type": "markdown",
   "metadata": {},
   "source": []
  },
  {
   "cell_type": "code",
   "execution_count": null,
   "metadata": {},
   "outputs": [
    {
     "name": "stdout",
     "output_type": "stream",
     "text": [
      "nb of galaxies:  9\n"
     ]
    }
   ],
   "source": [
    "# assign each # a number\n",
    "galaxy_count = 0;\n",
    "galaxy_coordinates = []\n",
    "for row_index, row in enumerate(expanded_galaxy):\n",
    "    for col_index, col in enumerate(row):\n",
    "        if col == '#':\n",
    "            galaxy_count += 1\n",
    "            expanded_galaxy[row_index][col_index] = str(galaxy_count)\n",
    "            galaxy_coordinates.append((galaxy_count, row_index, col_index))\n",
    "\n",
    "# print_galaxy(expanded_galaxy)\n",
    "number_of_galaxies = galaxy_count\n",
    "print('nb of galaxies: ', number_of_galaxies)\n",
    "# print('galaxy coordinates: ', galaxy_coordinates)"
   ]
  },
  {
   "cell_type": "code",
   "execution_count": null,
   "metadata": {},
   "outputs": [
    {
     "name": "stdout",
     "output_type": "stream",
     "text": [
      "nb of pairs 36\n"
     ]
    }
   ],
   "source": [
    "# find shortest path between each pair of #s\n",
    "\n",
    "# find all pairs given the max number of galaxies\n",
    "pairs = []\n",
    "for i in range(1, number_of_galaxies):\n",
    "    for j in range(i + 1, number_of_galaxies + 1):\n",
    "        pairs.append((i, j))\n",
    "\n",
    "\n",
    "\n",
    "print('nb of pairs', len(pairs))\n",
    "# print(pairs)"
   ]
  },
  {
   "cell_type": "code",
   "execution_count": null,
   "metadata": {},
   "outputs": [
    {
     "name": "stdout",
     "output_type": "stream",
     "text": [
      "1128\n"
     ]
    }
   ],
   "source": [
    "# find shortest path between two galaxies by only moving horizontally or vertically.\n",
    "sum_of_distances = 0\n",
    "\n",
    "def find_shortest_path(galaxy_1, galaxy_2):\n",
    "    galaxy_1_coordinates = galaxy_coordinates[galaxy_1 - 1]\n",
    "    galaxy_2_coordinates = galaxy_coordinates[galaxy_2 - 1]\n",
    "    # print('galaxy 1 coordinates: ', galaxy_1_coordinates)\n",
    "    # print('galaxy 2 coordinates: ', galaxy_2_coordinates)\n",
    "    x_distance = abs(galaxy_1_coordinates[1] - galaxy_2_coordinates[1])\n",
    "    y_distance = abs(galaxy_1_coordinates[2] - galaxy_2_coordinates[2])\n",
    "    # print('x_distance: ', x_distance)\n",
    "    # print('y_distance: ', y_distance)\n",
    "    return x_distance + y_distance\n",
    "\n",
    "for pair in pairs:\n",
    "    sum_of_distances += find_shortest_path(pair[0], pair[1])\n",
    "\n",
    "print(sum_of_distances)\n",
    "# print_galaxy(expanded_galaxy)\n",
    "# print(find_shortest_path(3,6))"
   ]
  }
 ],
 "metadata": {
  "kernelspec": {
   "display_name": ".venv",
   "language": "python",
   "name": "python3"
  },
  "language_info": {
   "codemirror_mode": {
    "name": "ipython",
    "version": 3
   },
   "file_extension": ".py",
   "mimetype": "text/x-python",
   "name": "python",
   "nbconvert_exporter": "python",
   "pygments_lexer": "ipython3",
   "version": "3.9.1"
  }
 },
 "nbformat": 4,
 "nbformat_minor": 2
}
