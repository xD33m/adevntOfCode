{
 "cells": [
  {
   "cell_type": "code",
   "execution_count": 245,
   "metadata": {},
   "outputs": [],
   "source": [
    "with open('./input.txt', 'r') as file:\n",
    "    content = file.read()"
   ]
  },
  {
   "cell_type": "code",
   "execution_count": 246,
   "metadata": {},
   "outputs": [
    {
     "data": {
      "text/plain": [
       "[1347397244,\n",
       " 12212989,\n",
       " 2916488878,\n",
       " 1034516675,\n",
       " 2821376423,\n",
       " 8776260,\n",
       " 2240804122,\n",
       " 368941186,\n",
       " 824872000,\n",
       " 124877531,\n",
       " 1597965637,\n",
       " 36057332,\n",
       " 4091290431,\n",
       " 159289722,\n",
       " 1875817275,\n",
       " 106230212,\n",
       " 998513229,\n",
       " 159131132,\n",
       " 2671581775,\n",
       " 4213184]"
      ]
     },
     "execution_count": 246,
     "metadata": {},
     "output_type": "execute_result"
    }
   ],
   "source": [
    "seeds = [int(x) for x in content.split('\\n')[0].split(' ') if x.isdigit()]\n",
    "seeds"
   ]
  },
  {
   "cell_type": "code",
   "execution_count": 247,
   "metadata": {},
   "outputs": [
    {
     "name": "stdout",
     "output_type": "stream",
     "text": [
      "([2988689842, 2936009234, 588295233, 3932833115, 3525561241, 1622262003, 2160566101, 1832930064, 3625461917, 3547409305, 1915466963, 3089205193, 4021148595, 2156240020, 1164190025, 2477360206, 2322619492, 654729396, 2557749253, 2724000799], [4194451945, 3353543976, 2638661119, 2936009234, 3331695912, 1969921080, 909457337, 1887384181, 3024324714, 3680043285, 588295233, 3758095897, 3406224584, 2705095282, 2180589141, 829068290, 2709421363, 1377923552, 1211672006, 1071510728], [100515351, 52680608, 66434163, 88315480, 21848064, 210668061, 162053391, 82536899, 307371198, 78052612, 240773057, 436356048, 273818701, 4326081, 458071978, 80389047, 154740714, 509460629, 166251546, 140161278])\n",
      "178159714\n"
     ]
    }
   ],
   "source": [
    "maps = [\"seed-to-soil map\", \"soil-to-fertilizer map\", \"fertilizer-to-water map\", \"water-to-light map\", \"light-to-temperature map\", \"temperature-to-humidity map\", \"humidity-to-location map\"]\n",
    "\n",
    "input = content.split('\\n\\n')\n",
    "input.pop(0)\n",
    "\n",
    "\n",
    "# should return dest, source, amount\n",
    "# [50, 52], [98, 50], [2, 48]\n",
    "def getMap(mapName):\n",
    "    dest = []\n",
    "    source = []\n",
    "    amount = []\n",
    "    for i in input:\n",
    "        if mapName in i.split('\\n')[0]:\n",
    "            rows = i.split('\\n')[1:]\n",
    "            values = [x.split(' ') for x in rows]\n",
    "            for i, row in enumerate(values):\n",
    "                for j, col in enumerate(row):\n",
    "                    if col.isdigit():\n",
    "                        if j == 0:\n",
    "                            dest.append(int(col))\n",
    "                        elif j == 1:\n",
    "                            source.append(int(col))\n",
    "                        elif j == 2:\n",
    "                            amount.append(int(col))\n",
    "            return dest, source, amount\n",
    "\n",
    "                \n",
    "    return None\n",
    "\n",
    "print(getMap(maps[0]))\n",
    "\n",
    "# seed 67\n",
    "\n",
    "# amount = 2\n",
    "# start dest = 50\n",
    "# start source = 98\n",
    "\n",
    "# amount = 48\n",
    "# start dest = 52\n",
    "# start source = 50\n",
    "\n",
    "# -> is between 98 & (98 + 2)?\n",
    "#     NO\n",
    "# -> is between 50 & (50 + 48)?\n",
    "#     YES\n",
    "#     -> diff = dest - source\n",
    "#             = 52 - 50\n",
    "#             = + 2\n",
    "#     -> 67 + 2 = 69\n",
    "\n",
    "# seed 98\n",
    "\n",
    "# amount = 2\n",
    "# start dest = 50\n",
    "# start source = 98\n",
    "\n",
    "# amount = 48\n",
    "# start dest = 52\n",
    "# start source = 50\n",
    "\n",
    "# -> is between 98 & (98 + 2)?\n",
    "#     YES\n",
    "#    -> diff = dest - source\n",
    "#            = 50 - 98\n",
    "#            = - 48\n",
    "#    -> 98 - 48 = 50\n",
    "\n",
    "def mapSource(seed, mapName):\n",
    "    dest, sourceMap, amount = getMap(mapName)\n",
    "    for i, s in enumerate(sourceMap):\n",
    "        if seed >= s and seed <= s + amount[i]:\n",
    "            diff = dest[i] - sourceMap[i]\n",
    "            return seed + diff\n",
    "    return seed\n",
    "\n",
    "def find_location(seed):\n",
    "    for map in maps:\n",
    "        seed = mapSource(seed, map)\n",
    "\n",
    "    return seed\n",
    "\n",
    "lowest = None\n",
    "for seed in seeds:\n",
    "    location = find_location(seed)\n",
    "    if lowest == None or location < lowest:\n",
    "        lowest = location\n",
    "\n",
    "print(lowest)\n",
    "\n",
    "    "
   ]
  },
  {
   "cell_type": "code",
   "execution_count": 248,
   "metadata": {},
   "outputs": [
    {
     "name": "stdout",
     "output_type": "stream",
     "text": [
      "178159714\n"
     ]
    }
   ],
   "source": [
    "# part 2\n",
    "seed_pairs = []\n",
    "for i in range(0, len(seeds), 2):\n",
    "    if i + 1 < len(seeds):\n",
    "        seed_pairs.append([seeds[i], seeds[i + 1]])\n",
    "# print(seed_pairs)\n",
    "\n",
    "# will run a very, very, very long time\n",
    "# lowest = None\n",
    "# for pair in seed_pairs:\n",
    "#     for i in range(pair[0], pair[0] + pair[1]):\n",
    "#         location = find_location(i)\n",
    "#         if lowest == None or location < lowest:\n",
    "#             lowest = location\n",
    "\n",
    "print(lowest)"
   ]
  }
 ],
 "metadata": {
  "kernelspec": {
   "display_name": ".venv",
   "language": "python",
   "name": "python3"
  },
  "language_info": {
   "codemirror_mode": {
    "name": "ipython",
    "version": 3
   },
   "file_extension": ".py",
   "mimetype": "text/x-python",
   "name": "python",
   "nbconvert_exporter": "python",
   "pygments_lexer": "ipython3",
   "version": "3.9.1"
  }
 },
 "nbformat": 4,
 "nbformat_minor": 2
}
