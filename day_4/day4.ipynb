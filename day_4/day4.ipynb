{
 "cells": [
  {
   "cell_type": "code",
   "execution_count": 320,
   "metadata": {},
   "outputs": [],
   "source": [
    "with open('./input.txt', 'r') as file:\n",
    "    content = file.read()"
   ]
  },
  {
   "cell_type": "code",
   "execution_count": 321,
   "metadata": {},
   "outputs": [
    {
     "name": "stdout",
     "output_type": "stream",
     "text": [
      "26218\n"
     ]
    }
   ],
   "source": [
    "import math\n",
    "\n",
    "def getScore(winning, have):\n",
    "    score = 0\n",
    "    for num in winning:\n",
    "        if num in have:\n",
    "            score += 1\n",
    "    return score\n",
    "\n",
    "sum = 0\n",
    "for row in content.split('\\n'):\n",
    "    split_pipe = row.split('|')\n",
    "    winning = [int(num) for num in split_pipe[0].split() if num.isdigit()]\n",
    "    have = [int(num) for num in split_pipe[1].split() if num.isdigit()]\n",
    "\n",
    "    sum += math.floor(2**(getScore(winning, have)-1))\n",
    "    # print(\"winning: \", winning)\n",
    "    # print(\"have: \", have)\n",
    "\n",
    "print(sum)\n"
   ]
  },
  {
   "cell_type": "code",
   "execution_count": 322,
   "metadata": {},
   "outputs": [
    {
     "ename": "TypeError",
     "evalue": "'int' object is not callable",
     "output_type": "error",
     "traceback": [
      "\u001b[1;31m---------------------------------------------------------------------------\u001b[0m",
      "\u001b[1;31mTypeError\u001b[0m                                 Traceback (most recent call last)",
      "\u001b[1;32me:\\Github\\adevntOfCode\\day_4\\day4.ipynb Cell 3\u001b[0m line \u001b[0;36m1\n\u001b[0;32m     <a href='vscode-notebook-cell:/e%3A/Github/adevntOfCode/day_4/day4.ipynb#W2sZmlsZQ%3D%3D?line=10'>11</a>\u001b[0m winning \u001b[39m=\u001b[39m [\u001b[39mint\u001b[39m(num) \u001b[39mfor\u001b[39;00m num \u001b[39min\u001b[39;00m split_pipe[\u001b[39m0\u001b[39m]\u001b[39m.\u001b[39msplit() \u001b[39mif\u001b[39;00m num\u001b[39m.\u001b[39misdigit()]\n\u001b[0;32m     <a href='vscode-notebook-cell:/e%3A/Github/adevntOfCode/day_4/day4.ipynb#W2sZmlsZQ%3D%3D?line=11'>12</a>\u001b[0m have \u001b[39m=\u001b[39m [\u001b[39mint\u001b[39m(num) \u001b[39mfor\u001b[39;00m num \u001b[39min\u001b[39;00m split_pipe[\u001b[39m1\u001b[39m]\u001b[39m.\u001b[39msplit() \u001b[39mif\u001b[39;00m num\u001b[39m.\u001b[39misdigit()]\n\u001b[1;32m---> <a href='vscode-notebook-cell:/e%3A/Github/adevntOfCode/day_4/day4.ipynb#W2sZmlsZQ%3D%3D?line=13'>14</a>\u001b[0m w \u001b[39m=\u001b[39m getScore(winning, have)\n\u001b[0;32m     <a href='vscode-notebook-cell:/e%3A/Github/adevntOfCode/day_4/day4.ipynb#W2sZmlsZQ%3D%3D?line=14'>15</a>\u001b[0m \u001b[39m# print(card_nb, w, cards[i]['nb'])\u001b[39;00m\n\u001b[0;32m     <a href='vscode-notebook-cell:/e%3A/Github/adevntOfCode/day_4/day4.ipynb#W2sZmlsZQ%3D%3D?line=16'>17</a>\u001b[0m \u001b[39mif\u001b[39;00m w \u001b[39m>\u001b[39m \u001b[39m0\u001b[39m:\n",
      "\u001b[1;32me:\\Github\\adevntOfCode\\day_4\\day4.ipynb Cell 3\u001b[0m line \u001b[0;36m4\n\u001b[0;32m      <a href='vscode-notebook-cell:/e%3A/Github/adevntOfCode/day_4/day4.ipynb#W2sZmlsZQ%3D%3D?line=2'>3</a>\u001b[0m \u001b[39mdef\u001b[39;00m \u001b[39mgetScore\u001b[39m(winning, have):\n\u001b[1;32m----> <a href='vscode-notebook-cell:/e%3A/Github/adevntOfCode/day_4/day4.ipynb#W2sZmlsZQ%3D%3D?line=3'>4</a>\u001b[0m     \u001b[39mreturn\u001b[39;00m \u001b[39msum\u001b[39;49m(\u001b[39m1\u001b[39;49m \u001b[39mfor\u001b[39;49;00m num \u001b[39min\u001b[39;49;00m winning \u001b[39mif\u001b[39;49;00m num \u001b[39min\u001b[39;49;00m have)\n",
      "\u001b[1;31mTypeError\u001b[0m: 'int' object is not callable"
     ]
    }
   ],
   "source": [
    "# Part 2\n",
    "\n",
    "def getScore(winning, have):\n",
    "    score = 0\n",
    "    for num in winning:\n",
    "        if num in have:\n",
    "            score += 1\n",
    "    return score\n",
    "\n",
    "sum = 0\n",
    "cards = [1 for _ in range(1, len(content.split('\\n')) +1)]\n",
    "for i, row in enumerate(content.split('\\n')):\n",
    "    card_nb = i+1\n",
    "    split_pipe = row.split('|')\n",
    "    winning = [int(num) for num in split_pipe[0].split() if num.isdigit()]\n",
    "    have = [int(num) for num in split_pipe[1].split() if num.isdigit()]\n",
    "\n",
    "    w = getScore(winning, have)\n",
    "    # print(card_nb, w, cards[i]['nb'])\n",
    "\n",
    "    if w > 0:\n",
    "         for _ in range(cards[i]):\n",
    "            for index in range(1, w + 1):\n",
    "                cards[i + index] += 1\n",
    "\n",
    "\n",
    "# print(cards)\n",
    "for card in cards:\n",
    "    sum += card\n",
    "\n",
    "print(sum)\n"
   ]
  }
 ],
 "metadata": {
  "kernelspec": {
   "display_name": ".venv",
   "language": "python",
   "name": "python3"
  },
  "language_info": {
   "codemirror_mode": {
    "name": "ipython",
    "version": 3
   },
   "file_extension": ".py",
   "mimetype": "text/x-python",
   "name": "python",
   "nbconvert_exporter": "python",
   "pygments_lexer": "ipython3",
   "version": "3.9.1"
  }
 },
 "nbformat": 4,
 "nbformat_minor": 2
}
