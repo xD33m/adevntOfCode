{
 "cells": [
  {
   "cell_type": "code",
   "execution_count": 323,
   "metadata": {},
   "outputs": [],
   "source": [
    "with open('./input.txt', 'r') as file:\n",
    "    content = file.read()"
   ]
  },
  {
   "cell_type": "code",
   "execution_count": 324,
   "metadata": {},
   "outputs": [
    {
     "name": "stdout",
     "output_type": "stream",
     "text": [
      "26218\n"
     ]
    }
   ],
   "source": [
    "import math\n",
    "\n",
    "def getScore(winning, have):\n",
    "    score = 0\n",
    "    for num in winning:\n",
    "        if num in have:\n",
    "            score += 1\n",
    "    return score\n",
    "\n",
    "sum = 0\n",
    "for row in content.split('\\n'):\n",
    "    split_pipe = row.split('|')\n",
    "    winning = [int(num) for num in split_pipe[0].split() if num.isdigit()]\n",
    "    have = [int(num) for num in split_pipe[1].split() if num.isdigit()]\n",
    "\n",
    "    sum += math.floor(2**(getScore(winning, have)-1))\n",
    "    # print(\"winning: \", winning)\n",
    "    # print(\"have: \", have)\n",
    "\n",
    "print(sum)\n"
   ]
  },
  {
   "cell_type": "code",
   "execution_count": 325,
   "metadata": {},
   "outputs": [
    {
     "name": "stdout",
     "output_type": "stream",
     "text": [
      "9997537\n"
     ]
    }
   ],
   "source": [
    "# Part 2\n",
    "\n",
    "def getScore(winning, have):\n",
    "    score = 0\n",
    "    for num in winning:\n",
    "        if num in have:\n",
    "            score += 1\n",
    "    return score\n",
    "\n",
    "sum = 0\n",
    "cards = [1 for _ in range(1, len(content.split('\\n')) +1)]\n",
    "for i, row in enumerate(content.split('\\n')):\n",
    "    card_nb = i+1\n",
    "    split_pipe = row.split('|')\n",
    "    winning = [int(num) for num in split_pipe[0].split() if num.isdigit()]\n",
    "    have = [int(num) for num in split_pipe[1].split() if num.isdigit()]\n",
    "\n",
    "    w = getScore(winning, have)\n",
    "    # print(card_nb, w, cards[i]['nb'])\n",
    "\n",
    "    if w > 0:\n",
    "         for _ in range(cards[i]):\n",
    "            for index in range(1, w + 1):\n",
    "                cards[i + index] += 1\n",
    "\n",
    "\n",
    "# print(cards)\n",
    "for card in cards:\n",
    "    sum += card\n",
    "\n",
    "print(sum)\n"
   ]
  }
 ],
 "metadata": {
  "kernelspec": {
   "display_name": ".venv",
   "language": "python",
   "name": "python3"
  },
  "language_info": {
   "codemirror_mode": {
    "name": "ipython",
    "version": 3
   },
   "file_extension": ".py",
   "mimetype": "text/x-python",
   "name": "python",
   "nbconvert_exporter": "python",
   "pygments_lexer": "ipython3",
   "version": "3.9.1"
  }
 },
 "nbformat": 4,
 "nbformat_minor": 2
}
